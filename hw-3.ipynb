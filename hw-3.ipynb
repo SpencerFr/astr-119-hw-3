{
 "cells": [
  {
   "cell_type": "code",
   "execution_count": null,
   "metadata": {
    "scrolled": true
   },
   "outputs": [],
   "source": [
    "%matplotlib inline\n",
    "import numpy as np\n",
    "import matplotlib.pyplot as plt"
   ]
  },
  {
   "cell_type": "code",
   "execution_count": null,
   "metadata": {},
   "outputs": [],
   "source": [
    "#populate arrays\n",
    "x = np.arange(0,2*np.pi,(2.0*np.pi)/1000)     #create x =[0,2pi] with 1000 values\n",
    "\n",
    "f = 5.5*np.cos(2*x) + 5.5             #f(x) = 5.5cos(2x) +5.5\n",
    "g = 0.02*np.exp(x)                    #g(x) = 0.02*e^x \n",
    "y = 0.25*x**2+0.1*np.sin(10*x)        #y(x) = 0.25x^2 + 0.1sin(10x)  \n",
    "\n",
    "\n",
    "plt.plot(x,f,x,g,x,y)                 #make a plot with each function\n",
    "plt.xlabel('Time in ASTR 119')        #label x axis\n",
    "plt.ylabel('Measures of Awesomeness') #label y axis\n",
    "plt.show()                            #show the plot on the screen"
   ]
  }
 ],
 "metadata": {
  "kernelspec": {
   "display_name": "Python 3",
   "language": "python",
   "name": "python3"
  },
  "language_info": {
   "codemirror_mode": {
    "name": "ipython",
    "version": 3
   },
   "file_extension": ".py",
   "mimetype": "text/x-python",
   "name": "python",
   "nbconvert_exporter": "python",
   "pygments_lexer": "ipython3",
   "version": "3.8.6"
  }
 },
 "nbformat": 4,
 "nbformat_minor": 4
}
